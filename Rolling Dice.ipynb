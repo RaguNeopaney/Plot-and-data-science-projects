{
 "cells": [
  {
   "cell_type": "code",
   "execution_count": 37,
   "metadata": {},
   "outputs": [],
   "source": [
    "import pygal"
   ]
  },
  {
   "cell_type": "code",
   "execution_count": 38,
   "metadata": {},
   "outputs": [],
   "source": [
    "from random import randint\n",
    "class Die():\n",
    "    def __init__(self,num_sides = 6):\n",
    "        self.num_side = num_sides\n",
    "    \n",
    "    def roll(self):\n",
    "        return randint(1,self.num_side)"
   ]
  },
  {
   "cell_type": "code",
   "execution_count": 39,
   "metadata": {},
   "outputs": [],
   "source": [
    "die_1 = Die()\n",
    "die_2 = Die()\n",
    "results  = []\n",
    "for roll_num in range(1000):\n",
    "    result = die_1.roll() + die_2.roll()\n",
    "    results.append(result)\n",
    "\n",
    "# analyze the result\n",
    "frequencies = []\n",
    "max_result = die_1.num_side + die_2.num_side\n",
    "for value in range (2, max_result+1):\n",
    "    frequency = results.count(value)\n",
    "    frequencies.append(frequency)"
   ]
  },
  {
   "cell_type": "code",
   "execution_count": 43,
   "metadata": {},
   "outputs": [
    {
     "name": "stdout",
     "output_type": "stream",
     "text": [
      "file://C:/Users/Ragu/AppData/Local/Temp/tmpvobvqg0r.html\n"
     ]
    }
   ],
   "source": [
    "# making a histogram of the data\n",
    "hist = pygal.Bar()\n",
    "hist.title = \"Result of rolling tow D6 1000 times\"\n",
    "hist.x_labels = ['1','2','3','4','5','6','7','8','9','10','11','12']\n",
    "hist.x_title = \"Result\"\n",
    "hist.y_title = \"Frequency of Result\"\n",
    "\n",
    "hist.add('D6 + D6', frequencies)\n",
    "hist.render_in_browser()"
   ]
  }
 ],
 "metadata": {
  "kernelspec": {
   "display_name": "Python 3",
   "language": "python",
   "name": "python3"
  },
  "language_info": {
   "codemirror_mode": {
    "name": "ipython",
    "version": 3
   },
   "file_extension": ".py",
   "mimetype": "text/x-python",
   "name": "python",
   "nbconvert_exporter": "python",
   "pygments_lexer": "ipython3",
   "version": "3.7.6"
  }
 },
 "nbformat": 4,
 "nbformat_minor": 4
}
